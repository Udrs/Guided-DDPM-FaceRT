{
 "cells": [
  {
   "cell_type": "code",
   "execution_count": 1,
   "id": "a17fca39-89bd-4ef4-940f-8afd84f4800a",
   "metadata": {},
   "outputs": [],
   "source": [
    "from sklearn.preprocessing import StandardScaler\n",
    "from sklearn.neighbors import KNeighborsClassifier\n",
    "from sklearn.metrics import classification_report, confusion_matrix\n",
    "import numpy as np\n",
    "from utils.Preprocessing import *\n",
    "from utils.Plot import *\n",
    "from utils.constants import *"
   ]
  },
  {
   "cell_type": "code",
   "execution_count": 7,
   "id": "8790cae3-717f-44d5-bbac-ce71838f007c",
   "metadata": {},
   "outputs": [],
   "source": [
    "# np.savez(\"Train_train.npz\", train_dataX, train_label)\n",
    "# np.savez(\"Test_Exp_test.npz\", exp_dataX, exp_label)\n",
    "\n",
    "train_data = np.load(\"Train_train.npz\")\n",
    "test_data = np.load(\"Test_Exp_test.npz\")\n",
    "Xtr, ytr = train_data['arr_0'], train_data['arr_1']\n",
    "Xte, yte = test_data['arr_0'] , test_data['arr_1']\n",
    "\n",
    "Xtr = Xtr.reshape((Xtr.shape[0],-1))\n",
    "Xte = Xte.reshape((Xte.shape[0],-1))"
   ]
  },
  {
   "cell_type": "code",
   "execution_count": 8,
   "id": "67520c44-42fd-4010-b6a5-f87f20b2d0a0",
   "metadata": {},
   "outputs": [
    {
     "data": {
      "text/plain": [
       "((8001, 1152), (413, 1152))"
      ]
     },
     "execution_count": 8,
     "metadata": {},
     "output_type": "execute_result"
    }
   ],
   "source": [
    "Xtr.shape, Xte.shape"
   ]
  },
  {
   "cell_type": "code",
   "execution_count": 12,
   "id": "d0d6cfed-617a-4e57-a80f-2b2d0717ed89",
   "metadata": {},
   "outputs": [],
   "source": [
    "scaler = StandardScaler()\n",
    "scaler.fit(Xtr)\n",
    "\n",
    "Xtr_norm = scaler.transform(Xtr)\n",
    "Xte_norm = scaler.transform(Xte)"
   ]
  },
  {
   "cell_type": "code",
   "execution_count": 13,
   "id": "6ae7ca15-65a2-485d-86a9-13e6166c1c1d",
   "metadata": {},
   "outputs": [],
   "source": [
    "classifier = KNeighborsClassifier(n_neighbors=5)\n",
    "classifier.fit(Xtr_norm, ytr)\n",
    "\n",
    "y_pred = classifier.predict(Xte_norm)"
   ]
  },
  {
   "cell_type": "code",
   "execution_count": 14,
   "id": "6ce1dc30-c008-49fc-852d-fb0a2b5a5513",
   "metadata": {},
   "outputs": [
    {
     "name": "stdout",
     "output_type": "stream",
     "text": [
      "[[ 3  0  0  0  0  0  0  0  0  0  0  0  1 12  0  0  0]\n",
      " [ 0 10  0  0  0  0  0  0  0  0  0  0  3  3  0  0  0]\n",
      " [ 0  0  0  0  0  0  0  0  0  0  0  0  3  4  1  0  0]\n",
      " [ 0  0  0  0  0  0  0  0  0  0  0  0  3  5  0  0  0]\n",
      " [ 3  0  0  0  0  0  0  0  0  0  0  0  1  2  1  1  0]\n",
      " [ 0  0  0  0  0  0  0  3  0  0  0  0  3  0  0  2  0]\n",
      " [ 0  0  0  2  0  0 14  1  0  0  0  0 15  0  0  0  0]\n",
      " [ 0  0  0  0  0  0  1  3  0  0  0  0 28  0  0  0  0]\n",
      " [ 0  0  0  0  0  0  2  0  3  0  0  0  0  1  1  0  1]\n",
      " [ 0  0  0  0  0  0  0  4  0  0  0  0  2  2  0  0  0]\n",
      " [ 0  0  0  0  0  0  5  0  0  0  0  0  1  0  0  2  0]\n",
      " [ 0  0  0  0  2  0  0  0  0  0  0  1  1  0  0  2  2]\n",
      " [ 0  0  0  0  0  0  0  0  0  0  0  0 96  0  0  0  0]\n",
      " [ 0  0  0  0  0  0  0  0  0  0  0  0  0 63  0  0  0]\n",
      " [ 0  0  0  0  0  0  0  0  0  0  0  0  0 21 23  0  0]\n",
      " [ 1  0  0  0  1  0  0  1  0  0  0  0  6  3  3 21  0]\n",
      " [ 0  0  0  0  0  0  3  1  0  0  1  0  1  0  0  0  8]]\n",
      "              precision    recall  f1-score   support\n",
      "\n",
      "           1       0.43      0.19      0.26        16\n",
      "           2       1.00      0.62      0.77        16\n",
      "           3       0.00      0.00      0.00         8\n",
      "           4       0.00      0.00      0.00         8\n",
      "           5       0.00      0.00      0.00         8\n",
      "           6       0.00      0.00      0.00         8\n",
      "           7       0.56      0.44      0.49        32\n",
      "           8       0.23      0.09      0.13        32\n",
      "           9       1.00      0.38      0.55         8\n",
      "          10       0.00      0.00      0.00         8\n",
      "          11       0.00      0.00      0.00         8\n",
      "          12       1.00      0.12      0.22         8\n",
      "          13       0.59      1.00      0.74        96\n",
      "          14       0.54      1.00      0.70        63\n",
      "          15       0.79      0.52      0.63        44\n",
      "          16       0.75      0.58      0.66        36\n",
      "          17       0.73      0.57      0.64        14\n",
      "\n",
      "    accuracy                           0.59       413\n",
      "   macro avg       0.45      0.32      0.34       413\n",
      "weighted avg       0.55      0.59      0.53       413\n",
      "\n"
     ]
    },
    {
     "name": "stderr",
     "output_type": "stream",
     "text": [
      "D:\\anaconda\\envs\\pytorch\\lib\\site-packages\\sklearn\\metrics\\_classification.py:1318: UndefinedMetricWarning: Precision and F-score are ill-defined and being set to 0.0 in labels with no predicted samples. Use `zero_division` parameter to control this behavior.\n",
      "  _warn_prf(average, modifier, msg_start, len(result))\n",
      "D:\\anaconda\\envs\\pytorch\\lib\\site-packages\\sklearn\\metrics\\_classification.py:1318: UndefinedMetricWarning: Precision and F-score are ill-defined and being set to 0.0 in labels with no predicted samples. Use `zero_division` parameter to control this behavior.\n",
      "  _warn_prf(average, modifier, msg_start, len(result))\n",
      "D:\\anaconda\\envs\\pytorch\\lib\\site-packages\\sklearn\\metrics\\_classification.py:1318: UndefinedMetricWarning: Precision and F-score are ill-defined and being set to 0.0 in labels with no predicted samples. Use `zero_division` parameter to control this behavior.\n",
      "  _warn_prf(average, modifier, msg_start, len(result))\n"
     ]
    }
   ],
   "source": [
    "print(confusion_matrix(yte, y_pred))\n",
    "print(classification_report(yte, y_pred))"
   ]
  },
  {
   "cell_type": "code",
   "execution_count": null,
   "id": "c7cb1bfe-903d-4f5e-8586-112d51b9b552",
   "metadata": {},
   "outputs": [],
   "source": []
  }
 ],
 "metadata": {
  "kernelspec": {
   "display_name": "Python 3 (ipykernel)",
   "language": "python",
   "name": "python3"
  },
  "language_info": {
   "codemirror_mode": {
    "name": "ipython",
    "version": 3
   },
   "file_extension": ".py",
   "mimetype": "text/x-python",
   "name": "python",
   "nbconvert_exporter": "python",
   "pygments_lexer": "ipython3",
   "version": "3.8.0"
  }
 },
 "nbformat": 4,
 "nbformat_minor": 5
}
