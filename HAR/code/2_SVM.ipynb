{
 "cells": [
  {
   "cell_type": "code",
   "execution_count": 19,
   "id": "2fcd06b7-cb13-40fc-a079-0bb6fdded8d8",
   "metadata": {},
   "outputs": [],
   "source": [
    "from sklearn.preprocessing import StandardScaler\n",
    "from sklearn.svm import SVC\n",
    "from sklearn.metrics import classification_report, confusion_matrix, accuracy_score\n",
    "from utils.Plot import heatmap\n",
    "from utils.constants import TARGET_NAMES\n",
    "\n",
    "import numpy as np\n",
    "\n",
    "train_data = np.load(\"Train_train.npz\")\n",
    "test_data = np.load(\"Test_Exp_test.npz\")\n",
    "Xtr, ytr = train_data['arr_0'], train_data['arr_1']\n",
    "Xte, yte = test_data['arr_0'] , test_data['arr_1']\n",
    "\n",
    "Xtr = Xtr.reshape((Xtr.shape[0],-1))\n",
    "Xte = Xte.reshape((Xte.shape[0],-1))"
   ]
  },
  {
   "cell_type": "code",
   "execution_count": 6,
   "id": "bb3a20cc-9b68-4a27-9363-700df3f07cbb",
   "metadata": {},
   "outputs": [],
   "source": [
    "scaler = StandardScaler()\n",
    "scaler.fit(Xtr)\n",
    "\n",
    "Xtr_norm = scaler.transform(Xtr)\n",
    "Xte_norm = scaler.transform(Xte)"
   ]
  },
  {
   "cell_type": "code",
   "execution_count": null,
   "id": "c8863d8d-1fd2-40ae-a23f-8097069aafaa",
   "metadata": {},
   "outputs": [],
   "source": [
    "clf = SVC(gamma='auto')\n",
    "clf.fit(Xtr_norm, Xte_norm)"
   ]
  },
  {
   "cell_type": "code",
   "execution_count": 8,
   "id": "1b34341d-30a5-45e3-a980-b22221e20bf9",
   "metadata": {},
   "outputs": [],
   "source": [
    "y_pred = clf.predict(Xte_norm)"
   ]
  },
  {
   "cell_type": "code",
   "execution_count": 17,
   "id": "828cc2c1-f71a-4289-9148-d117b6fe8817",
   "metadata": {},
   "outputs": [],
   "source": [
    "# heatmap(yte, y_pred, 17, \"SVM\")"
   ]
  },
  {
   "cell_type": "code",
   "execution_count": 18,
   "id": "78041d37-4df3-4119-a497-a404d3f4b915",
   "metadata": {},
   "outputs": [
    {
     "name": "stdout",
     "output_type": "stream",
     "text": [
      "[[ 80   0   0   0   0   0   0   0   0   0   0   0   0   0   0   0   0]\n",
      " [  0  73   0   0   0   0   0   0   0   0   0   0   0   6   0   0   0]\n",
      " [  0   0  40   0   0   0   0   0   0   0   0   0   0   0   0   0   0]\n",
      " [  0   0   0  40   0   0   0   0   0   0   0   0   0   0   0   0   0]\n",
      " [  0   0   0   0  40   0   0   0   0   0   0   0   0   0   0   0   0]\n",
      " [  0   0   0   0   0  39   0   0   0   0   0   0   0   0   0   0   0]\n",
      " [  0   0   0   0   0   0 155   0   0   0   0   0   2   0   0   0   0]\n",
      " [  0   0   0   0   0   0   0 159   0   0   0   0   0   0   0   0   0]\n",
      " [  0   0   0   0   0   0   0   0  40   0   0   0   0   0   0   0   0]\n",
      " [  0   0   0   0   0   0   0   0   0  40   0   0   0   0   0   0   0]\n",
      " [  0   0   0   0   0   0   0   0   0   0  40   0   0   0   0   0   0]\n",
      " [  0   0   0   0   0   0   0   0   0   0   0  40   0   0   0   0   0]\n",
      " [  0   0   0   0   0   0   0   0   0   0   0   0 494   1   0   0   0]\n",
      " [  0   1   0   0   0   0   0   0   0   0   0   0   0 165   0   0   0]\n",
      " [  0   0   0   0   0   0   0   0   0   0   0   0   0   0 198   0   0]\n",
      " [  0   0   0   0   0   0   0   0   0   0   0   0   0   0   0 189   0]\n",
      " [  0   0   0   0   0   0   0   0   0   0   0   0   0   0   0   0  89]]\n",
      "              precision    recall  f1-score   support\n",
      "\n",
      "           1       1.00      1.00      1.00        80\n",
      "           2       0.99      0.92      0.95        79\n",
      "           3       1.00      1.00      1.00        40\n",
      "           4       1.00      1.00      1.00        40\n",
      "           5       1.00      1.00      1.00        40\n",
      "           6       1.00      1.00      1.00        39\n",
      "           7       1.00      0.99      0.99       157\n",
      "           8       1.00      1.00      1.00       159\n",
      "           9       1.00      1.00      1.00        40\n",
      "          10       1.00      1.00      1.00        40\n",
      "          11       1.00      1.00      1.00        40\n",
      "          12       1.00      1.00      1.00        40\n",
      "          13       1.00      1.00      1.00       495\n",
      "          14       0.96      0.99      0.98       166\n",
      "          15       1.00      1.00      1.00       198\n",
      "          16       1.00      1.00      1.00       189\n",
      "          17       1.00      1.00      1.00        89\n",
      "\n",
      "    accuracy                           0.99      1931\n",
      "   macro avg       1.00      0.99      1.00      1931\n",
      "weighted avg       0.99      0.99      0.99      1931\n",
      "\n"
     ]
    }
   ],
   "source": [
    "print(confusion_matrix(yte, y_pred))\n",
    "print(classification_report(yte, y_pred))"
   ]
  },
  {
   "cell_type": "code",
   "execution_count": null,
   "id": "89dfd069-6600-4209-b23c-948789c1e064",
   "metadata": {},
   "outputs": [],
   "source": []
  }
 ],
 "metadata": {
  "kernelspec": {
   "display_name": "Python 3 (ipykernel)",
   "language": "python",
   "name": "python3"
  },
  "language_info": {
   "codemirror_mode": {
    "name": "ipython",
    "version": 3
   },
   "file_extension": ".py",
   "mimetype": "text/x-python",
   "name": "python",
   "nbconvert_exporter": "python",
   "pygments_lexer": "ipython3",
   "version": "3.9.12"
  }
 },
 "nbformat": 4,
 "nbformat_minor": 5
}
