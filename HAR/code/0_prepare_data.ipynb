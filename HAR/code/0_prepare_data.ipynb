{
 "cells": [
  {
   "cell_type": "code",
   "execution_count": 1,
   "id": "4070db4d-34d1-4b8e-a8c5-3a7d8bb6854f",
   "metadata": {},
   "outputs": [],
   "source": [
    "from numpy.lib.function_base import sinc\n",
    "import pandas as pd\n",
    "import numpy as np\n",
    "import matplotlib.pyplot as plt\n",
    "import random\n",
    "\n",
    "from glob import glob\n",
    "import os\n",
    "\n",
    "\n",
    "def load_data(file_path):\n",
    "    data = pd.read_csv(file_path, sep=\"\\s+\")\n",
    "    return data"
   ]
  },
  {
   "cell_type": "code",
   "execution_count": 2,
   "id": "4fb8db52-4919-46aa-889e-d9471d8e67e3",
   "metadata": {},
   "outputs": [],
   "source": [
    "train_data_list = []\n",
    "exp_data_list = []\n",
    "\n",
    "moves = ['Test1', 'Turn2', 'TurnRight', 'UpTurnUp', 'UpWalk', 'WalkUp', 'Exp', 'Exp2'] # Exp2 is for testing\n",
    "files = ['AccX_0.txt', 'AccY_0.txt', 'AccZ_0.txt', 'GyroX_0.txt', 'GyroY_0.txt', 'GyroZ_0.txt', 'Label_0.txt']\n",
    "for move in moves:\n",
    "    \n",
    "    folders = glob(os.path.join('./data3',move,'*'))\n",
    "    folders.sort()\n",
    "    \n",
    "    for folder in folders:\n",
    "        \n",
    "        txts = glob(os.path.join(folder,'*.txt'))\n",
    "        txts.sort()\n",
    "        # body_accX, body_accY, body_accZ, \n",
    "        # Body_gyroX, Body_gyroY, Body_gyroZ, \n",
    "        # Total_accX, Total_accY, Total_accZ\n",
    "        Body_acc_list = []\n",
    "        Gyro_list = []\n",
    "        Total_acc_list = []\n",
    "        \n",
    "        for file in files:\n",
    "            \n",
    "            csv_path = os.path.join(folder,file)\n",
    "            var = pd.read_csv(csv_path, header=None, index_col=None).values\n",
    "            \n",
    "            if 'Acc' in file: # \n",
    "                G = np.ones((var.shape)) * 9.81\n",
    "                body_var = var - G\n",
    "                Total_acc_list.append(var)\n",
    "                Body_acc_list.append(var)\n",
    "                \n",
    "            elif 'Gyro' in file:\n",
    "                Gyro_list.append(var)\n",
    "                \n",
    "            elif 'Label' in file:\n",
    "                label = var\n",
    "        \n",
    "        data_list = Body_acc_list + Gyro_list + Total_acc_list + [label]\n",
    "        \n",
    "        lengths = [item.shape[0] for item in data_list]\n",
    "        length = min(lengths)\n",
    "        \n",
    "        data_list = [item[:length,:].T for item in data_list]\n",
    "        data = np.vstack(data_list) # 10 x 3xxx\n",
    "        \n",
    "        if move == 'Exp2':\n",
    "            exp_data_list.append(data)\n",
    "        else:\n",
    "            train_data_list.append(data)"
   ]
  },
  {
   "cell_type": "code",
   "execution_count": 3,
   "id": "8616482d-8ff0-48a1-9303-009d10cfbdf6",
   "metadata": {},
   "outputs": [
    {
     "name": "stdout",
     "output_type": "stream",
     "text": [
      "train size: 83\n",
      "exp length: 4\n"
     ]
    }
   ],
   "source": [
    "############################################################ read and build orignal train_exp dataset ####################################\n",
    "print('train size:', len(train_data_list))\n",
    "\n",
    "print('exp length:', len(exp_data_list))\n",
    "\n",
    "train1 = train_data_list\n",
    "exp1 = exp_data_list"
   ]
  },
  {
   "cell_type": "code",
   "execution_count": 4,
   "id": "c8f158cb-93d8-41df-b430-4b42be80c0d6",
   "metadata": {},
   "outputs": [],
   "source": [
    "def overlap(data_np, window_size=128, overlap=16):\n",
    "    # print(data_np.shape)\n",
    "\n",
    "    length = data_np.shape[1]\n",
    "    start_point = 0\n",
    "    stop_point = start_point + window_size\n",
    "    overlap_data = data_np[:, start_point:stop_point]\n",
    "    overlap_data = overlap_data[np.newaxis, :]\n",
    "    # print('overlap size:', overlap_data.shape)\n",
    "\n",
    "    while(stop_point <= length-overlap):\n",
    "        start_point = start_point + overlap\n",
    "        stop_point = start_point + window_size\n",
    "        piece = data_np[:, start_point:stop_point]\n",
    "        piece = piece[np.newaxis, :]\n",
    "        overlap_data = np.concatenate((overlap_data, piece),axis=0)\n",
    "        \n",
    "    # print('overlap size:', overlap_data.shape)\n",
    "    return overlap_data"
   ]
  },
  {
   "cell_type": "code",
   "execution_count": 5,
   "id": "5ea0fa65-c04e-42ad-8264-6524a05045f9",
   "metadata": {},
   "outputs": [
    {
     "name": "stdout",
     "output_type": "stream",
     "text": [
      "train2 size: (8001, 10, 128)\n"
     ]
    }
   ],
   "source": [
    "for i in range(0, len(train1)):\n",
    "    \n",
    "    if (i==0):\n",
    "        train2 = overlap(train1[i])\n",
    "    else:\n",
    "        pack = overlap(train1[i])\n",
    "        train2 = np.concatenate((train2, pack))\n",
    "\n",
    "print(\"train2 size:\", train2.shape)"
   ]
  },
  {
   "cell_type": "code",
   "execution_count": 6,
   "id": "4a321319-0b85-48a1-acb8-bb0f1ab7f752",
   "metadata": {},
   "outputs": [
    {
     "data": {
      "text/plain": [
       "(10, 3245)"
      ]
     },
     "execution_count": 6,
     "metadata": {},
     "output_type": "execute_result"
    }
   ],
   "source": [
    "train1[0].shape"
   ]
  },
  {
   "cell_type": "code",
   "execution_count": 7,
   "id": "43c3ef39-9367-4e62-8624-c72539d15b52",
   "metadata": {},
   "outputs": [
    {
     "data": {
      "text/plain": [
       "(211, 10, 128)"
      ]
     },
     "execution_count": 7,
     "metadata": {},
     "output_type": "execute_result"
    }
   ],
   "source": [
    "pack.shape"
   ]
  },
  {
   "cell_type": "code",
   "execution_count": 8,
   "id": "299d9f99-ec0e-46c2-b110-3704130690b2",
   "metadata": {},
   "outputs": [
    {
     "data": {
      "text/plain": [
       "(8001, 10, 128)"
      ]
     },
     "execution_count": 8,
     "metadata": {},
     "output_type": "execute_result"
    }
   ],
   "source": [
    "train2.shape"
   ]
  },
  {
   "cell_type": "code",
   "execution_count": 9,
   "id": "c2d143e0-71cb-49ae-9cb7-7e29bb8559f0",
   "metadata": {},
   "outputs": [
    {
     "name": "stdout",
     "output_type": "stream",
     "text": [
      "exp2 size: (413, 10, 128)\n"
     ]
    }
   ],
   "source": [
    "list_exp2 = []\n",
    "for i in range(0, len(exp1)):\n",
    "    if (i==0):\n",
    "        exp2 = overlap(exp1[i],128,32)\n",
    "    else:\n",
    "        pack = overlap(exp1[i],128,32)\n",
    "        exp2 = np.concatenate((exp2, pack))\n",
    "\n",
    "    pack2 = overlap(exp1[i],128,32)\n",
    "    list_exp2.append(pack2)\n",
    "\n",
    "print(\"exp2 size:\", exp2.shape)"
   ]
  },
  {
   "cell_type": "code",
   "execution_count": 10,
   "id": "c931f8b0-a81d-4312-b445-2c7da2bb9b1c",
   "metadata": {},
   "outputs": [
    {
     "name": "stdout",
     "output_type": "stream",
     "text": [
      "8001 413\n"
     ]
    }
   ],
   "source": [
    "def getLabel2(input_label):\n",
    "    PAIR = {1:[1,2], \n",
    "            2:[2,1],\n",
    "            3:[1,3],\n",
    "            4:[3,1],\n",
    "            5:[1,4],\n",
    "            6:[4,1],\n",
    "            7:[1,5],\n",
    "            8:[5,1],\n",
    "            9:[3,5],\n",
    "            10:[5,3],\n",
    "            11:[4,5],\n",
    "            12:[5,4],\n",
    "            13:[1,1],\n",
    "            14:[2,2],\n",
    "            15:[3,3],\n",
    "            16:[4,4],\n",
    "            17:[5,5]}\n",
    "\n",
    "    middel = []\n",
    "    length1 = 0\n",
    "    for label in input_label:\n",
    "        if (len(middel)==0):\n",
    "            middel.append(label)\n",
    "        if (label != middel[0]):\n",
    "            middel.append(label)\n",
    "        if (len(middel) == 2):\n",
    "            break\n",
    "        length1 = length1 + 1\n",
    "\n",
    "    if (len(middel)==1):\n",
    "        middel.append(middel[0])\n",
    "\n",
    "    label2 = list(PAIR.keys())[list(PAIR.values()).index(middel)]\n",
    "\n",
    "    rate = length1/128\n",
    "\n",
    "    rate = (100*rate)//10\n",
    "\n",
    "    return label2, rate\n",
    "\n",
    "\n",
    "def CreatLabel(data_np):\n",
    "\n",
    "    label2_list = []\n",
    "    rate_list = []\n",
    "    for i in range(0, data_np.shape[0]):\n",
    "\n",
    "        label_list = data_np[i,9,:].flatten().tolist()\n",
    "    \n",
    "        label2, rate = getLabel2(label_list)\n",
    "        label2_list.append(label2)\n",
    "\n",
    "        rate_list.append(rate)\n",
    "    \n",
    "    return label2_list, rate_list\n",
    "\n",
    "\n",
    "train_label, rate_train_list = CreatLabel(train2)\n",
    "with open(\"Train_dataY.txt\", \"w+\") as textfile:\n",
    "    for element in train_label:\n",
    "        textfile.write(str(element) + \"\\n\")\n",
    "\n",
    "exp_label, rate_list_exp = CreatLabel(exp2)\n",
    "with open(\"Test_Exp_dataY.txt\", \"w+\") as textfile:\n",
    "    for element in exp_label:\n",
    "        textfile.write(str(element) + \"\\n\")\n",
    "\n",
    "print(len(train_label), len(exp_label))\n"
   ]
  },
  {
   "cell_type": "code",
   "execution_count": 11,
   "id": "32b35280-f335-4298-b2c1-515988408814",
   "metadata": {},
   "outputs": [
    {
     "name": "stdout",
     "output_type": "stream",
     "text": [
      "(8001, 9, 128) 8001\n",
      "(413, 9, 128) 413\n"
     ]
    }
   ],
   "source": [
    "train_dataX = train2[:,0:9,:]\n",
    "exp_dataX = exp2[:,0:9,:] \n",
    "\n",
    "exp_label_list = []\n",
    "for i in range(0, len(list_exp2)):\n",
    "    exp2_label,rate_list_exp2 = CreatLabel(list_exp2[i])\n",
    "    exp_label_list.append(exp2_label)\n",
    "\n",
    "exp_dataX_list = []\n",
    "for i in range(0, len(list_exp2)):\n",
    "    exp_dataX_list.append(list_exp2[i][:,0:9,:])\n",
    "\n",
    "print(train_dataX.shape,len(train_label))\n",
    "print(exp_dataX.shape,len(exp_label))"
   ]
  },
  {
   "cell_type": "code",
   "execution_count": 12,
   "id": "12dbe968-a4a6-4968-a0dc-387a2b687e4e",
   "metadata": {},
   "outputs": [
    {
     "name": "stdout",
     "output_type": "stream",
     "text": [
      "individual train dataX shape:(4721, 9, 128)\n",
      "4721\n"
     ]
    }
   ],
   "source": [
    "##################################### To filter five individual activity labels #######################\n",
    "\n",
    "train_label_individual = []\n",
    "exp_label_individual = []\n",
    "\n",
    "for i in range(0, len(train_label)):\n",
    "    if (train_label[i]==13):\n",
    "        label = 1\n",
    "    elif(train_label[i]==14):\n",
    "        label = 2\n",
    "    elif(train_label[i]==15):\n",
    "        label = 3\n",
    "    elif(train_label[i]==16):\n",
    "        label = 4\n",
    "    elif(train_label[i]==17):\n",
    "        label = 5\n",
    "    else:\n",
    "        label = 0 #### transition activity\n",
    "\n",
    "    if (i==0):\n",
    "        train_dataX_individual = train_dataX[0,:,:]\n",
    "        train_dataX_individual = np.reshape(train_dataX_individual,(1,9,128))\n",
    "        train_label_individual.append(label)\n",
    "    \n",
    "    if(label!=0):\n",
    "        train_label_individual.append(label)\n",
    "        train_dataX_individual = np.concatenate((train_dataX_individual, np.reshape(train_dataX[i,:,:],(1,9,128))))\n",
    "\n",
    "print('individual train dataX shape:{}'.format(train_dataX_individual.shape))\n",
    "print(len(train_label_individual))"
   ]
  },
  {
   "cell_type": "code",
   "execution_count": 15,
   "id": "52d74df0-8da7-41af-ad31-341fd0431981",
   "metadata": {},
   "outputs": [
    {
     "name": "stdout",
     "output_type": "stream",
     "text": [
      "exp0 size: 103\n",
      "exp1 size: 102\n",
      "exp2 size: 101\n"
     ]
    }
   ],
   "source": [
    "np.savez(\"Train_train.npz\", train_dataX, train_label)\n",
    "np.savez(\"Test_Exp_test.npz\", exp_dataX, exp_label)\n",
    "np.savez(\"Test_Exp_exp0.npz\", exp_dataX_list[0], exp_label_list[0])\n",
    "\n",
    "print('exp0 size:', len(exp_label_list[0]))\n",
    "\n",
    "np.savez(\"Test_Exp_exp1.npz\", exp_dataX_list[1], exp_label_list[1])\n",
    "\n",
    "print('exp1 size:', len(exp_label_list[1]))\n",
    "\n",
    "np.savez(\"Test_Exp_exp2.npz\", exp_dataX_list[2], exp_label_list[2])\n",
    "\n",
    "print('exp2 size:', len(exp_label_list[2]))"
   ]
  },
  {
   "cell_type": "code",
   "execution_count": 14,
   "id": "4033dc79-a069-48da-abf4-498856e0223f",
   "metadata": {},
   "outputs": [
    {
     "data": {
      "text/plain": [
       "(102, 9, 128)"
      ]
     },
     "execution_count": 14,
     "metadata": {},
     "output_type": "execute_result"
    }
   ],
   "source": [
    "exp_dataX_list[1].shape"
   ]
  },
  {
   "cell_type": "code",
   "execution_count": null,
   "id": "94f66f62-4eb4-4322-9a76-e5da636859b3",
   "metadata": {},
   "outputs": [],
   "source": []
  },
  {
   "cell_type": "code",
   "execution_count": null,
   "id": "a81eb45e",
   "metadata": {},
   "outputs": [],
   "source": []
  }
 ],
 "metadata": {
  "kernelspec": {
   "display_name": "Python 3 (ipykernel)",
   "language": "python",
   "name": "python3"
  },
  "language_info": {
   "codemirror_mode": {
    "name": "ipython",
    "version": 3
   },
   "file_extension": ".py",
   "mimetype": "text/x-python",
   "name": "python",
   "nbconvert_exporter": "python",
   "pygments_lexer": "ipython3",
   "version": "3.9.12"
  }
 },
 "nbformat": 4,
 "nbformat_minor": 5
}
